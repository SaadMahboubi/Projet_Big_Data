{
 "cells": [
  {
   "cell_type": "code",
   "execution_count": 93,
   "id": "ac0f8b46",
   "metadata": {},
   "outputs": [
    {
     "data": {
      "text/plain": [
       "{'kind': 'news',\n",
       " 'domain': 'dailyhodl.com',\n",
       " 'votes': {'negative': 3,\n",
       "  'positive': 41,\n",
       "  'important': 13,\n",
       "  'liked': 27,\n",
       "  'disliked': 1,\n",
       "  'lol': 1,\n",
       "  'toxic': 0,\n",
       "  'saved': 3,\n",
       "  'comments': 6},\n",
       " 'source': {'title': 'The Daily Hodl',\n",
       "  'region': 'en',\n",
       "  'domain': 'dailyhodl.com',\n",
       "  'path': None},\n",
       " 'title': 'XRP Set for Massive Breakout With Altcoins Poised to Steal the Show From Bitcoin, Predicts Top Crypto Analyst',\n",
       " 'published_at': '2021-11-04T09:15:38Z',\n",
       " 'slug': 'XRP-Set-for-Massive-Breakout-With-Altcoins-Poised-to-Steal-the-Show-From-Bitcoin-Predicts-Top-Crypto-Analyst',\n",
       " 'currencies': [{'code': 'BTC',\n",
       "   'title': 'Bitcoin',\n",
       "   'slug': 'bitcoin',\n",
       "   'url': 'https://cryptopanic.com/news/bitcoin/'},\n",
       "  {'code': 'ETH',\n",
       "   'title': 'Ethereum',\n",
       "   'slug': 'ethereum',\n",
       "   'url': 'https://cryptopanic.com/news/ethereum/'},\n",
       "  {'code': 'XRP',\n",
       "   'title': 'XRP',\n",
       "   'slug': 'ripple',\n",
       "   'url': 'https://cryptopanic.com/news/ripple/'}],\n",
       " 'id': 13222457,\n",
       " 'url': 'https://cryptopanic.com/news/13222457/XRP-Set-for-Massive-Breakout-With-Altcoins-Poised-to-Steal-the-Show-From-Bitcoin-Predicts-Top-Crypto-Analyst',\n",
       " 'created_at': '2021-11-04T09:15:38Z'}"
      ]
     },
     "execution_count": 93,
     "metadata": {},
     "output_type": "execute_result"
    }
   ],
   "source": [
    "import requests\n",
    "\n",
    "ccxt\n",
    "\n",
    "url = \"https://cryptopanic.com/api/v1/posts/?auth_token=2782cfb213fc9add755d8d26b51a726182bdbb5d&filter=hot\"\n",
    "\n",
    "reponse = requests.get(url)\n",
    "contenu = reponse.json()\n",
    "contenu[\"results\"][6]"
   ]
  },
  {
   "cell_type": "code",
   "execution_count": 106,
   "id": "dd5bbfa3",
   "metadata": {},
   "outputs": [
    {
     "data": {
      "text/plain": [
       "{'negative': 26,\n",
       " 'positive': 17,\n",
       " 'important': 17,\n",
       " 'liked': 22,\n",
       " 'disliked': 7,\n",
       " 'lol': 14,\n",
       " 'toxic': 0,\n",
       " 'saved': 4,\n",
       " 'comments': 46}"
      ]
     },
     "execution_count": 106,
     "metadata": {},
     "output_type": "execute_result"
    }
   ],
   "source": [
    "resultats = contenu[\"results\"]\n",
    "votes = resultats[0]['votes']\n",
    "title = resultats[0]['title']\n",
    "published_at = resultats[0]['published_at']\n",
    "currencies = resultats[0]['currencies']\n",
    "url = resultats[0]['url']\n",
    "\n",
    "resultatsImportant\n",
    "\n"
   ]
  }
 ],
 "metadata": {
  "kernelspec": {
   "display_name": "Python 3 (ipykernel)",
   "language": "python",
   "name": "python3"
  },
  "language_info": {
   "codemirror_mode": {
    "name": "ipython",
    "version": 3
   },
   "file_extension": ".py",
   "mimetype": "text/x-python",
   "name": "python",
   "nbconvert_exporter": "python",
   "pygments_lexer": "ipython3",
   "version": "3.10.0"
  }
 },
 "nbformat": 4,
 "nbformat_minor": 5
}
